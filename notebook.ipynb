{
  "cells": [
    {
      "cell_type": "markdown",
      "source": [
        "Note: Google collab doesn't support OpenCV. So please open it in Jupiter notebook or the local machine instead 😀."
      ],
      "metadata": {
        "id": "EYYak4lmL7q8"
      }
    },
    {
      "cell_type": "markdown",
      "source": [
        "#Install modules\n"
      ],
      "metadata": {
        "id": "L7HpFx_v3GlK"
      }
    },
    {
      "cell_type": "code",
      "source": [
        "!pip install opencv-python\n",
        "!pip install keras\n",
        "!pip install tensorflow #Use pip install tensorflow-cpu if cuda is not available"
      ],
      "metadata": {
        "id": "AQCu17SL1JbW"
      },
      "execution_count": null,
      "outputs": []
    },
    {
      "cell_type": "markdown",
      "source": [
        "#Import modules"
      ],
      "metadata": {
        "id": "mUCM7AiM0qSp"
      }
    },
    {
      "cell_type": "code",
      "execution_count": 1,
      "metadata": {
        "id": "pZvzH9gN4uO0"
      },
      "outputs": [],
      "source": [
        "import cv2\n",
        "import os\n",
        "import numpy as np\n",
        "import keras\n",
        "import matplotlib.pyplot as plt\n",
        "from tensorflow.keras.applications import VGG16\n",
        "from keras import backend as K\n",
        "from keras.models import Model, Sequential, load_model\n",
        "from keras.layers import Input, Dense, Activation, LSTM\n",
        "import h5py"
      ]
    },
    {
      "cell_type": "markdown",
      "source": [
        "#Initial variables\n",
        "\n"
      ],
      "metadata": {
        "id": "SGuHoYa91UrZ"
      }
    },
    {
      "cell_type": "code",
      "execution_count": 2,
      "metadata": {
        "id": "_odMJZYI4uO3"
      },
      "outputs": [],
      "source": [
        "DIR_TR = \"dataset/Train/\"\n",
        "DIR_TE = \"dataset/Test/\"\n",
        "DIR_VA = \"dataset/Valid/\"\n",
        "\n",
        "# Frame size  \n",
        "IMG_SIZE = 224\n",
        "IMG_SIZE_TUPLE = (IMG_SIZE, IMG_SIZE)\n",
        "\n",
        "# Number of channels (RGB)\n",
        "NUM_CHANNELS = 3\n",
        "# Flat frame size\n",
        "IMG_SIZE_FLAT = IMG_SIZE**2 * NUM_CHANNELS\n",
        "\n",
        "# Number of classes for classification (Violence-No Violence)\n",
        "NUM_CLASSES = 2\n",
        "CLASSES_LIST = ['NonViolence', 'Violence']\n",
        "assert len(CLASSES_LIST) == NUM_CLASSES\n",
        "\n",
        "SEQUENCE_LENGTH = 20"
      ]
    },
    {
      "cell_type": "markdown",
      "source": [
        "#VGG16 Model"
      ],
      "metadata": {
        "id": "IW52o0BB1yGt"
      }
    },
    {
      "cell_type": "code",
      "execution_count": null,
      "metadata": {
        "id": "nM5y_QMq4uO5"
      },
      "outputs": [],
      "source": [
        "image_model = VGG16(include_top=True, weights='imagenet')\n",
        "image_model.summary()"
      ]
    },
    {
      "cell_type": "code",
      "execution_count": null,
      "metadata": {
        "colab": {
          "base_uri": "https://localhost:8080/"
        },
        "id": "z_roX6en4uO7",
        "outputId": "a0123c32-f5a6-4beb-d56f-9b964736abfd"
      },
      "outputs": [
        {
          "output_type": "stream",
          "name": "stdout",
          "text": [
            "The input of the VGG16 net have dimensions: (224, 224)\n",
            "The output of the selecter layer of VGG16 net have dimensions:  4096\n"
          ]
        }
      ],
      "source": [
        "transfer_layer = image_model.get_layer('fc2')\n",
        "image_model_transfer = Model(inputs=image_model.input,\n",
        "                             outputs=transfer_layer.output)"
      ]
    },
    {
      "cell_type": "markdown",
      "source": [
        "#Frame extraction function"
      ],
      "metadata": {
        "id": "W6ESgRLM1igz"
      }
    },
    {
      "cell_type": "markdown",
      "source": [
        "## Function"
      ],
      "metadata": {
        "id": "C60BR9lT4xlz"
      }
    },
    {
      "cell_type": "markdown",
      "source": [
        "Get array of each frame"
      ],
      "metadata": {
        "id": "rRyzInZ8Nv_0"
      }
    },
    {
      "cell_type": "code",
      "execution_count": null,
      "metadata": {
        "id": "2fS-9egP4uO4"
      },
      "outputs": [],
      "source": [
        "def get_frames(vid_path):\n",
        "    cap = cv2.VideoCapture(vid_path)\n",
        "    total_frames = cap.get(cv2.CAP_PROP_FRAME_COUNT)\n",
        "    split_size = int(min(3, max(total_frames // SEQUENCE_LENGTH, 1)))\n",
        "    chunk_size = total_frames / split_size\n",
        "    skip_frame = max(1, chunk_size // SEQUENCE_LENGTH)\n",
        "    \n",
        "    for c in range(split_size):\n",
        "        initial_frame = SEQUENCE_LENGTH * c * skip_frame\n",
        "        \n",
        "        frames_list = []\n",
        "        for i in range(SEQUENCE_LENGTH):\n",
        "            cap.set(cv2.CAP_PROP_POS_FRAMES, (i * skip_frame) + initial_frame)\n",
        "            ret, frame = cap.read()\n",
        "            if not ret:\n",
        "                break\n",
        "            \n",
        "            RGB_img = cv2.cvtColor(frame, cv2.COLOR_BGR2RGB)\n",
        "                \n",
        "            res = cv2.resize(RGB_img, \n",
        "                             dsize=IMG_SIZE_TUPLE,\n",
        "                             interpolation=cv2.INTER_CUBIC)\n",
        "            \n",
        "            frames_list.append(res)\n",
        "\n",
        "            \n",
        "        if len(frames_list) != SEQUENCE_LENGTH:\n",
        "            continue\n",
        "        \n",
        "        result = np.array(frames_list)\n",
        "        result = (result / 255).astype(np.float16)\n",
        "        \n",
        "        yield result\n",
        "        "
      ]
    },
    {
      "cell_type": "markdown",
      "source": [
        "Extract features each frame from video"
      ],
      "metadata": {
        "id": "4rmzysvqNxLb"
      }
    },
    {
      "cell_type": "code",
      "execution_count": null,
      "metadata": {
        "id": "VuIv-yZ64uO8"
      },
      "outputs": [],
      "source": [
        "def extracted_features(vid_path):\n",
        "    gen = get_frames(vid_path)\n",
        "    for chunk in gen:\n",
        "        shape = (SEQUENCE_LENGTH, 4096)\n",
        "        transfer_values = np.zeros(shape=shape, dtype=np.float16)\n",
        "        transfer_values = image_model_transfer.predict(chunk)\n",
        "        \n",
        "        yield transfer_values\n",
        "    "
      ]
    },
    {
      "cell_type": "markdown",
      "source": [
        "Create dataset"
      ],
      "metadata": {
        "id": "63H6kq4JN6bt"
      }
    },
    {
      "cell_type": "code",
      "execution_count": null,
      "metadata": {
        "id": "dTS1Qr3R4uO9"
      },
      "outputs": [],
      "source": [
        "def create_dataset(dataset_dir):\n",
        "    class_dataset_dir = os.listdir(dataset_dir)\n",
        "    features = []\n",
        "    labels = []\n",
        "    count = 0\n",
        "    \n",
        "    for dir in class_dataset_dir:\n",
        "        videos_list = os.listdir(os.path.join(dataset_dir, dir))\n",
        "        \n",
        "        for vid in videos_list:\n",
        "            gen_path = os.path.join(dataset_dir, dir, vid)\n",
        "            gen = extracted_features(gen_path)\n",
        "            for chunk in gen:\n",
        "                features.append(chunk)\n",
        "                if dir == CLASSES_LIST[0]:\n",
        "                    labels.append([1, 0])\n",
        "                elif dir == CLASSES_LIST[1]:\n",
        "                    labels.append([0, 1])\n",
        "            count += 1\n",
        "            print(gen_path, count, len(videos_list))\n",
        "    \n",
        "    return features, labels"
      ]
    },
    {
      "cell_type": "markdown",
      "source": [
        "##Create dataset for video"
      ],
      "metadata": {
        "id": "uuhfr6dS163I"
      }
    },
    {
      "cell_type": "markdown",
      "source": [
        "Note: Please skip this section if you already save the dataset."
      ],
      "metadata": {
        "id": "okGYhtx940P2"
      }
    },
    {
      "cell_type": "code",
      "execution_count": null,
      "metadata": {
        "id": "bqBqBvp24uO9"
      },
      "outputs": [],
      "source": [
        "features_tr, labels_tr = create_dataset(DIR_TR)\n",
        "features_te, labels_te = create_dataset(DIR_TE)\n",
        "features_va, labels_va = create_dataset(DIR_VA)"
      ]
    },
    {
      "cell_type": "markdown",
      "source": [
        "##Write and load dataset"
      ],
      "metadata": {
        "id": "0a9xD8Uo2Kk2"
      }
    },
    {
      "cell_type": "markdown",
      "source": [
        "After you finish the create dataset section. Uncomment this below code to save the dataset and when you've done, Comment it again to make sure you won't overwrite it."
      ],
      "metadata": {
        "id": "7O7b43eD5CFQ"
      }
    },
    {
      "cell_type": "code",
      "execution_count": null,
      "metadata": {
        "id": "X-u_VylM4uO_"
      },
      "outputs": [],
      "source": [
        "#   Write Data\n",
        "\n",
        "# with h5py.File('features_labels/datav6.h5', mode='w') as file:\n",
        "#     file.create_dataset('X_tr', data=features_tr)\n",
        "#     file.create_dataset('X_te', data=features_te)\n",
        "#     file.create_dataset('X_va', data=features_va)\n",
        "    \n",
        "#     file.create_dataset('y_tr', data=labels_tr)\n",
        "#     file.create_dataset('y_te', data=labels_te)\n",
        "#     file.create_dataset('y_va', data=labels_va)"
      ]
    },
    {
      "cell_type": "markdown",
      "source": [
        "Load the dataset from hdf5 file"
      ],
      "metadata": {
        "id": "-FIdiHdB5wm2"
      }
    },
    {
      "cell_type": "code",
      "source": [
        "#   Load Data\n",
        "\n",
        "# with h5py.File('features_labels/datav6.h5', mode='r') as file:\n",
        "#     X_te = file['X_te'][:]\n",
        "#     y_te = file['y_te'][:]\n",
        "\n",
        "#     X_tr = file['X_tr'][:]\n",
        "#     y_tr = file['y_tr'][:]\n",
        "\n",
        "#     X_va = file['X_va'][:]\n",
        "#     y_va = file['y_va'][:]\n"
      ],
      "metadata": {
        "id": "wlyYtwXdzYUV"
      },
      "execution_count": null,
      "outputs": []
    },
    {
      "cell_type": "code",
      "source": [
        "with h5py.File('/content/drive/MyDrive/Colab Notebooks/Aibuilder Project/Violence Detection/features_labels/last_final_v1_train.h5', mode='r') as file:\n",
        "    X_tr = file['X_tr'][:]\n",
        "    y_tr = file['y_tr'][:]\n"
      ],
      "metadata": {
        "id": "K9qung1ev8L-"
      },
      "execution_count": 21,
      "outputs": []
    },
    {
      "cell_type": "code",
      "source": [
        "with h5py.File('/content/drive/MyDrive/Colab Notebooks/Aibuilder Project/Violence Detection/features_labels/last_final_v1_val.h5', mode='r') as file:\n",
        "    X_va = file['X_va'][:]\n",
        "    y_va = file['y_va'][:]"
      ],
      "metadata": {
        "id": "rIBh5Xuhv_p9"
      },
      "execution_count": 22,
      "outputs": []
    },
    {
      "cell_type": "code",
      "source": [
        "with h5py.File('/content/drive/MyDrive/Colab Notebooks/Aibuilder Project/Violence Detection/features_labels/last_final_v1_test.h5', mode='r') as file:\n",
        "    X_te = file['X_te'][:]\n",
        "    y_te = file['y_te'][:]"
      ],
      "metadata": {
        "id": "mU_zwbqgvpDd"
      },
      "execution_count": 14,
      "outputs": []
    },
    {
      "cell_type": "markdown",
      "source": [
        "##Check data"
      ],
      "metadata": {
        "id": "hipjZvk-2ZAC"
      }
    },
    {
      "cell_type": "code",
      "source": [
        "print(\"Train features\", len(X_tr))\n",
        "print(\"Test features\", len(X_te))\n",
        "print(\"Validation features\", len(X_va))"
      ],
      "metadata": {
        "colab": {
          "base_uri": "https://localhost:8080/"
        },
        "id": "IOhAJ4N45zVs",
        "outputId": "378315a0-41e9-4943-fa95-5aa6e939c4e7"
      },
      "execution_count": 23,
      "outputs": [
        {
          "output_type": "stream",
          "name": "stdout",
          "text": [
            "Train features 4836\n",
            "Test features 738\n",
            "Validation features 1378\n"
          ]
        }
      ]
    },
    {
      "cell_type": "code",
      "source": [
        "print(\"Train label\", len(y_tr))\n",
        "print(\"Test label\", len(y_te))\n",
        "print(\"Validation label\", len(y_va))"
      ],
      "metadata": {
        "id": "414FeY_K54Gy",
        "colab": {
          "base_uri": "https://localhost:8080/"
        },
        "outputId": "5f490656-3a1b-45ae-98d4-bfe3da59d6b8"
      },
      "execution_count": 24,
      "outputs": [
        {
          "output_type": "stream",
          "name": "stdout",
          "text": [
            "Train label 4836\n",
            "Test label 738\n",
            "Validation label 1378\n"
          ]
        }
      ]
    },
    {
      "cell_type": "markdown",
      "source": [
        "#LSTM model"
      ],
      "metadata": {
        "id": "cWywynk42gMd"
      }
    },
    {
      "cell_type": "markdown",
      "source": [
        "##Create model\n"
      ],
      "metadata": {
        "id": "uk2CPIey2uxw"
      }
    },
    {
      "cell_type": "code",
      "execution_count": 7,
      "metadata": {
        "id": "Np_Fohrf4uPA"
      },
      "outputs": [],
      "source": [
        "chunk_size = 4096\n",
        "n_chunks = 20\n",
        "rnn_size = 512\n",
        "\n",
        "model = Sequential()\n",
        "model.add(LSTM(rnn_size, input_shape=(n_chunks, chunk_size)))\n",
        "model.add(Dense(1024))\n",
        "model.add(Activation('relu'))\n",
        "model.add(Dense(50))\n",
        "model.add(Activation('sigmoid'))\n",
        "model.add(Dense(2))\n",
        "model.add(Activation('softmax'))\n"
      ]
    },
    {
      "cell_type": "markdown",
      "source": [
        "##Train model"
      ],
      "metadata": {
        "id": "rjw0Y4Hc2zPb"
      }
    },
    {
      "cell_type": "code",
      "source": [
        "from keras.callbacks import EarlyStopping\n",
        "from tensorflow.keras.optimizers import Adam\n",
        "epoch = 50\n",
        "batchS = 300\n",
        "\n",
        "early_stopping_callback = EarlyStopping(monitor = 'val_loss', patience = 12, mode = 'min', restore_best_weights = True)\n",
        "opt = Adam(learning_rate=0.001)\n",
        "model.compile(loss='mean_squared_error', optimizer=opt, metrics=['accuracy'])\n",
        "history = model.fit(x=np.array(X_tr), y=np.array(y_tr), epochs=epoch,\n",
        "                    validation_data=(np.array(X_va), np.array(y_va)),\n",
        "                    shuffle=True,\n",
        "                    batch_size=batchS, verbose=2,\n",
        "                    callbacks=[early_stopping_callback])"
      ],
      "metadata": {
        "colab": {
          "base_uri": "https://localhost:8080/"
        },
        "id": "oqntmgkxwHB5",
        "outputId": "747419a3-2611-47f8-a8f1-266c6a3d81b4"
      },
      "execution_count": 8,
      "outputs": [
        {
          "output_type": "stream",
          "name": "stdout",
          "text": [
            "Epoch 1/50\n",
            "17/17 - 9s - loss: 0.2727 - accuracy: 0.5362 - val_loss: 0.2442 - val_accuracy: 0.5697 - 9s/epoch - 537ms/step\n",
            "Epoch 2/50\n",
            "17/17 - 2s - loss: 0.2438 - accuracy: 0.5928 - val_loss: 0.2415 - val_accuracy: 0.5697 - 2s/epoch - 127ms/step\n",
            "Epoch 3/50\n",
            "17/17 - 2s - loss: 0.2314 - accuracy: 0.6288 - val_loss: 0.2131 - val_accuracy: 0.6640 - 2s/epoch - 127ms/step\n",
            "Epoch 4/50\n",
            "17/17 - 2s - loss: 0.1938 - accuracy: 0.7057 - val_loss: 0.2148 - val_accuracy: 0.6684 - 2s/epoch - 125ms/step\n",
            "Epoch 5/50\n",
            "17/17 - 2s - loss: 0.1945 - accuracy: 0.7086 - val_loss: 0.1813 - val_accuracy: 0.7373 - 2s/epoch - 126ms/step\n",
            "Epoch 6/50\n",
            "17/17 - 2s - loss: 0.1668 - accuracy: 0.7531 - val_loss: 0.1742 - val_accuracy: 0.7504 - 2s/epoch - 126ms/step\n",
            "Epoch 7/50\n",
            "17/17 - 2s - loss: 0.1485 - accuracy: 0.7880 - val_loss: 0.1618 - val_accuracy: 0.7656 - 2s/epoch - 142ms/step\n",
            "Epoch 8/50\n",
            "17/17 - 2s - loss: 0.1390 - accuracy: 0.8052 - val_loss: 0.1720 - val_accuracy: 0.7366 - 2s/epoch - 131ms/step\n",
            "Epoch 9/50\n",
            "17/17 - 2s - loss: 0.1288 - accuracy: 0.8205 - val_loss: 0.1584 - val_accuracy: 0.7671 - 2s/epoch - 128ms/step\n",
            "Epoch 10/50\n",
            "17/17 - 2s - loss: 0.1140 - accuracy: 0.8466 - val_loss: 0.1526 - val_accuracy: 0.7721 - 2s/epoch - 127ms/step\n",
            "Epoch 11/50\n",
            "17/17 - 2s - loss: 0.1164 - accuracy: 0.8379 - val_loss: 0.2205 - val_accuracy: 0.7148 - 2s/epoch - 129ms/step\n",
            "Epoch 12/50\n",
            "17/17 - 2s - loss: 0.1337 - accuracy: 0.8129 - val_loss: 0.1526 - val_accuracy: 0.7808 - 2s/epoch - 129ms/step\n",
            "Epoch 13/50\n",
            "17/17 - 2s - loss: 0.1007 - accuracy: 0.8646 - val_loss: 0.1588 - val_accuracy: 0.7772 - 2s/epoch - 141ms/step\n",
            "Epoch 14/50\n",
            "17/17 - 2s - loss: 0.0962 - accuracy: 0.8726 - val_loss: 0.1486 - val_accuracy: 0.7816 - 2s/epoch - 129ms/step\n",
            "Epoch 15/50\n",
            "17/17 - 2s - loss: 0.0941 - accuracy: 0.8747 - val_loss: 0.1511 - val_accuracy: 0.7837 - 2s/epoch - 127ms/step\n",
            "Epoch 16/50\n",
            "17/17 - 2s - loss: 0.0933 - accuracy: 0.8766 - val_loss: 0.1507 - val_accuracy: 0.7888 - 2s/epoch - 128ms/step\n",
            "Epoch 17/50\n",
            "17/17 - 2s - loss: 0.0871 - accuracy: 0.8869 - val_loss: 0.1738 - val_accuracy: 0.7779 - 2s/epoch - 128ms/step\n",
            "Epoch 18/50\n",
            "17/17 - 2s - loss: 0.0909 - accuracy: 0.8778 - val_loss: 0.2042 - val_accuracy: 0.7250 - 2s/epoch - 128ms/step\n",
            "Epoch 19/50\n",
            "17/17 - 2s - loss: 0.1146 - accuracy: 0.8428 - val_loss: 0.1593 - val_accuracy: 0.7823 - 2s/epoch - 128ms/step\n",
            "Epoch 20/50\n",
            "17/17 - 2s - loss: 0.0909 - accuracy: 0.8813 - val_loss: 0.1530 - val_accuracy: 0.7823 - 2s/epoch - 128ms/step\n",
            "Epoch 21/50\n",
            "17/17 - 2s - loss: 0.0794 - accuracy: 0.8976 - val_loss: 0.1525 - val_accuracy: 0.7852 - 2s/epoch - 129ms/step\n",
            "Epoch 22/50\n",
            "17/17 - 2s - loss: 0.0817 - accuracy: 0.8925 - val_loss: 0.1670 - val_accuracy: 0.7642 - 2s/epoch - 129ms/step\n",
            "Epoch 23/50\n",
            "17/17 - 2s - loss: 0.0827 - accuracy: 0.8923 - val_loss: 0.1641 - val_accuracy: 0.7852 - 2s/epoch - 127ms/step\n",
            "Epoch 24/50\n",
            "17/17 - 2s - loss: 0.0861 - accuracy: 0.8846 - val_loss: 0.1580 - val_accuracy: 0.7888 - 2s/epoch - 129ms/step\n",
            "Epoch 25/50\n",
            "17/17 - 2s - loss: 0.0775 - accuracy: 0.9020 - val_loss: 0.1554 - val_accuracy: 0.7888 - 2s/epoch - 129ms/step\n",
            "Epoch 26/50\n",
            "17/17 - 2s - loss: 0.0747 - accuracy: 0.9059 - val_loss: 0.1454 - val_accuracy: 0.8012 - 2s/epoch - 131ms/step\n",
            "Epoch 27/50\n",
            "17/17 - 2s - loss: 0.0721 - accuracy: 0.9067 - val_loss: 0.1728 - val_accuracy: 0.7765 - 2s/epoch - 129ms/step\n",
            "Epoch 28/50\n",
            "17/17 - 3s - loss: 0.0701 - accuracy: 0.9117 - val_loss: 0.1458 - val_accuracy: 0.7990 - 3s/epoch - 153ms/step\n",
            "Epoch 29/50\n",
            "17/17 - 2s - loss: 0.0708 - accuracy: 0.9069 - val_loss: 0.1964 - val_accuracy: 0.7562 - 2s/epoch - 135ms/step\n",
            "Epoch 30/50\n",
            "17/17 - 2s - loss: 0.0828 - accuracy: 0.8902 - val_loss: 0.1934 - val_accuracy: 0.7605 - 2s/epoch - 131ms/step\n",
            "Epoch 31/50\n",
            "17/17 - 2s - loss: 0.0757 - accuracy: 0.8987 - val_loss: 0.1721 - val_accuracy: 0.7736 - 2s/epoch - 131ms/step\n",
            "Epoch 32/50\n",
            "17/17 - 2s - loss: 0.0814 - accuracy: 0.8867 - val_loss: 0.1526 - val_accuracy: 0.7910 - 2s/epoch - 132ms/step\n",
            "Epoch 33/50\n",
            "17/17 - 2s - loss: 0.0645 - accuracy: 0.9150 - val_loss: 0.1460 - val_accuracy: 0.8070 - 2s/epoch - 131ms/step\n",
            "Epoch 34/50\n",
            "17/17 - 2s - loss: 0.0652 - accuracy: 0.9146 - val_loss: 0.1676 - val_accuracy: 0.7837 - 2s/epoch - 132ms/step\n",
            "Epoch 35/50\n",
            "17/17 - 2s - loss: 0.0746 - accuracy: 0.9003 - val_loss: 0.1461 - val_accuracy: 0.8062 - 2s/epoch - 132ms/step\n",
            "Epoch 36/50\n",
            "17/17 - 2s - loss: 0.0772 - accuracy: 0.8981 - val_loss: 0.1876 - val_accuracy: 0.7642 - 2s/epoch - 131ms/step\n",
            "Epoch 37/50\n",
            "17/17 - 2s - loss: 0.0822 - accuracy: 0.8850 - val_loss: 0.2424 - val_accuracy: 0.7039 - 2s/epoch - 132ms/step\n",
            "Epoch 38/50\n",
            "17/17 - 2s - loss: 0.1162 - accuracy: 0.8340 - val_loss: 0.1451 - val_accuracy: 0.7968 - 2s/epoch - 133ms/step\n",
            "Epoch 39/50\n",
            "17/17 - 2s - loss: 0.0662 - accuracy: 0.9127 - val_loss: 0.1494 - val_accuracy: 0.7968 - 2s/epoch - 132ms/step\n",
            "Epoch 40/50\n",
            "17/17 - 2s - loss: 0.0621 - accuracy: 0.9191 - val_loss: 0.1438 - val_accuracy: 0.8041 - 2s/epoch - 132ms/step\n",
            "Epoch 41/50\n",
            "17/17 - 2s - loss: 0.0683 - accuracy: 0.9111 - val_loss: 0.1461 - val_accuracy: 0.8099 - 2s/epoch - 132ms/step\n",
            "Epoch 42/50\n",
            "17/17 - 2s - loss: 0.0578 - accuracy: 0.9247 - val_loss: 0.1507 - val_accuracy: 0.8019 - 2s/epoch - 132ms/step\n",
            "Epoch 43/50\n",
            "17/17 - 2s - loss: 0.0592 - accuracy: 0.9241 - val_loss: 0.1614 - val_accuracy: 0.7903 - 2s/epoch - 131ms/step\n",
            "Epoch 44/50\n",
            "17/17 - 2s - loss: 0.0661 - accuracy: 0.9142 - val_loss: 0.1699 - val_accuracy: 0.7779 - 2s/epoch - 132ms/step\n",
            "Epoch 45/50\n",
            "17/17 - 2s - loss: 0.0619 - accuracy: 0.9175 - val_loss: 0.1672 - val_accuracy: 0.7787 - 2s/epoch - 130ms/step\n",
            "Epoch 46/50\n",
            "17/17 - 3s - loss: 0.0777 - accuracy: 0.8923 - val_loss: 0.2134 - val_accuracy: 0.7395 - 3s/epoch - 149ms/step\n",
            "Epoch 47/50\n",
            "17/17 - 2s - loss: 0.0807 - accuracy: 0.8890 - val_loss: 0.1404 - val_accuracy: 0.8149 - 2s/epoch - 132ms/step\n",
            "Epoch 48/50\n",
            "17/17 - 2s - loss: 0.0735 - accuracy: 0.8989 - val_loss: 0.1459 - val_accuracy: 0.8062 - 2s/epoch - 130ms/step\n",
            "Epoch 49/50\n",
            "17/17 - 2s - loss: 0.0524 - accuracy: 0.9353 - val_loss: 0.1450 - val_accuracy: 0.8128 - 2s/epoch - 131ms/step\n",
            "Epoch 50/50\n",
            "17/17 - 2s - loss: 0.0538 - accuracy: 0.9303 - val_loss: 0.1469 - val_accuracy: 0.8149 - 2s/epoch - 130ms/step\n"
          ]
        }
      ]
    },
    {
      "cell_type": "markdown",
      "source": [
        "### Old data"
      ],
      "metadata": {
        "id": "m8H35Epevvk5"
      }
    },
    {
      "cell_type": "code",
      "execution_count": 12,
      "metadata": {
        "id": "CfH-6WIJ4uPA"
      },
      "outputs": [],
      "source": [
        "with h5py.File('/content/drive/MyDrive/Colab Notebooks/Aibuilder Project/Violence Detection/features_labels/datav6.h5', mode='r') as file:\n",
        "    # X_te = file['X_te'][:]\n",
        "    # y_te = file['y_te'][:]\n",
        "\n",
        "    X_tr = file['X_tr'][:]\n",
        "    y_tr = file['y_tr'][:]\n",
        "\n",
        "    X_va = file['X_va'][:]\n",
        "    y_va = file['y_va'][:]\n"
      ]
    },
    {
      "cell_type": "code",
      "execution_count": 13,
      "metadata": {
        "colab": {
          "base_uri": "https://localhost:8080/"
        },
        "id": "RwmKCz_C4uPB",
        "outputId": "0a2f09da-c7da-4884-f507-5bc6dfc66231"
      },
      "outputs": [
        {
          "output_type": "stream",
          "name": "stdout",
          "text": [
            "Epoch 1/50\n",
            "15/15 - 5s - loss: 0.4331 - accuracy: 0.5501 - val_loss: 0.4377 - val_accuracy: 0.5334 - 5s/epoch - 307ms/step\n",
            "Epoch 2/50\n",
            "15/15 - 2s - loss: 0.3742 - accuracy: 0.5135 - val_loss: 0.2602 - val_accuracy: 0.4666 - 2s/epoch - 135ms/step\n",
            "Epoch 3/50\n",
            "15/15 - 2s - loss: 0.2529 - accuracy: 0.5056 - val_loss: 0.2484 - val_accuracy: 0.5334 - 2s/epoch - 135ms/step\n",
            "Epoch 4/50\n",
            "15/15 - 2s - loss: 0.2476 - accuracy: 0.5883 - val_loss: 0.2455 - val_accuracy: 0.5980 - 2s/epoch - 135ms/step\n",
            "Epoch 5/50\n",
            "15/15 - 2s - loss: 0.2419 - accuracy: 0.6438 - val_loss: 0.2375 - val_accuracy: 0.6782 - 2s/epoch - 137ms/step\n",
            "Epoch 6/50\n",
            "15/15 - 2s - loss: 0.2275 - accuracy: 0.7404 - val_loss: 0.2188 - val_accuracy: 0.7065 - 2s/epoch - 138ms/step\n",
            "Epoch 7/50\n",
            "15/15 - 2s - loss: 0.1929 - accuracy: 0.7518 - val_loss: 0.1947 - val_accuracy: 0.6987 - 2s/epoch - 145ms/step\n",
            "Epoch 8/50\n",
            "15/15 - 2s - loss: 0.1631 - accuracy: 0.7711 - val_loss: 0.1767 - val_accuracy: 0.7231 - 2s/epoch - 160ms/step\n",
            "Epoch 9/50\n",
            "15/15 - 2s - loss: 0.1384 - accuracy: 0.8109 - val_loss: 0.1651 - val_accuracy: 0.7506 - 2s/epoch - 138ms/step\n",
            "Epoch 10/50\n",
            "15/15 - 2s - loss: 0.1169 - accuracy: 0.8459 - val_loss: 0.1664 - val_accuracy: 0.7718 - 2s/epoch - 136ms/step\n",
            "Epoch 11/50\n",
            "15/15 - 2s - loss: 0.1099 - accuracy: 0.8563 - val_loss: 0.1654 - val_accuracy: 0.7758 - 2s/epoch - 137ms/step\n",
            "Epoch 12/50\n",
            "15/15 - 2s - loss: 0.0985 - accuracy: 0.8677 - val_loss: 0.1336 - val_accuracy: 0.8072 - 2s/epoch - 138ms/step\n",
            "Epoch 13/50\n",
            "15/15 - 2s - loss: 0.0988 - accuracy: 0.8661 - val_loss: 0.1410 - val_accuracy: 0.7907 - 2s/epoch - 136ms/step\n",
            "Epoch 14/50\n",
            "15/15 - 2s - loss: 0.0885 - accuracy: 0.8793 - val_loss: 0.1384 - val_accuracy: 0.7931 - 2s/epoch - 138ms/step\n",
            "Epoch 15/50\n",
            "15/15 - 2s - loss: 0.0932 - accuracy: 0.8779 - val_loss: 0.1298 - val_accuracy: 0.8065 - 2s/epoch - 140ms/step\n",
            "Epoch 16/50\n",
            "15/15 - 2s - loss: 0.0731 - accuracy: 0.9125 - val_loss: 0.1289 - val_accuracy: 0.8120 - 2s/epoch - 139ms/step\n",
            "Epoch 17/50\n",
            "15/15 - 2s - loss: 0.0710 - accuracy: 0.9100 - val_loss: 0.1262 - val_accuracy: 0.8316 - 2s/epoch - 139ms/step\n",
            "Epoch 18/50\n",
            "15/15 - 2s - loss: 0.0657 - accuracy: 0.9193 - val_loss: 0.1247 - val_accuracy: 0.8293 - 2s/epoch - 140ms/step\n",
            "Epoch 19/50\n",
            "15/15 - 2s - loss: 0.0664 - accuracy: 0.9145 - val_loss: 0.1265 - val_accuracy: 0.8301 - 2s/epoch - 138ms/step\n",
            "Epoch 20/50\n",
            "15/15 - 2s - loss: 0.0641 - accuracy: 0.9191 - val_loss: 0.1312 - val_accuracy: 0.8143 - 2s/epoch - 137ms/step\n",
            "Epoch 21/50\n",
            "15/15 - 2s - loss: 0.0623 - accuracy: 0.9200 - val_loss: 0.1280 - val_accuracy: 0.8065 - 2s/epoch - 137ms/step\n",
            "Epoch 22/50\n",
            "15/15 - 2s - loss: 0.0604 - accuracy: 0.9202 - val_loss: 0.1247 - val_accuracy: 0.8269 - 2s/epoch - 139ms/step\n",
            "Epoch 23/50\n",
            "15/15 - 2s - loss: 0.0558 - accuracy: 0.9286 - val_loss: 0.1257 - val_accuracy: 0.8348 - 2s/epoch - 136ms/step\n",
            "Epoch 24/50\n",
            "15/15 - 2s - loss: 0.0623 - accuracy: 0.9173 - val_loss: 0.1336 - val_accuracy: 0.8127 - 2s/epoch - 135ms/step\n",
            "Epoch 25/50\n",
            "15/15 - 2s - loss: 0.0498 - accuracy: 0.9363 - val_loss: 0.1249 - val_accuracy: 0.8301 - 2s/epoch - 136ms/step\n",
            "Epoch 26/50\n",
            "15/15 - 2s - loss: 0.0532 - accuracy: 0.9327 - val_loss: 0.1269 - val_accuracy: 0.8301 - 2s/epoch - 137ms/step\n",
            "Epoch 27/50\n",
            "15/15 - 2s - loss: 0.0582 - accuracy: 0.9234 - val_loss: 0.1296 - val_accuracy: 0.8316 - 2s/epoch - 136ms/step\n",
            "Epoch 28/50\n",
            "15/15 - 2s - loss: 0.0624 - accuracy: 0.9175 - val_loss: 0.1226 - val_accuracy: 0.8379 - 2s/epoch - 137ms/step\n",
            "Epoch 29/50\n",
            "15/15 - 2s - loss: 0.0565 - accuracy: 0.9236 - val_loss: 0.1297 - val_accuracy: 0.8269 - 2s/epoch - 136ms/step\n",
            "Epoch 30/50\n",
            "15/15 - 2s - loss: 0.0455 - accuracy: 0.9445 - val_loss: 0.1216 - val_accuracy: 0.8308 - 2s/epoch - 138ms/step\n",
            "Epoch 31/50\n",
            "15/15 - 2s - loss: 0.0585 - accuracy: 0.9227 - val_loss: 0.1313 - val_accuracy: 0.8332 - 2s/epoch - 134ms/step\n",
            "Epoch 32/50\n",
            "15/15 - 2s - loss: 0.0488 - accuracy: 0.9377 - val_loss: 0.1201 - val_accuracy: 0.8332 - 2s/epoch - 137ms/step\n",
            "Epoch 33/50\n",
            "15/15 - 2s - loss: 0.0418 - accuracy: 0.9493 - val_loss: 0.1225 - val_accuracy: 0.8301 - 2s/epoch - 134ms/step\n",
            "Epoch 34/50\n",
            "15/15 - 2s - loss: 0.0393 - accuracy: 0.9495 - val_loss: 0.1384 - val_accuracy: 0.8175 - 2s/epoch - 135ms/step\n",
            "Epoch 35/50\n",
            "15/15 - 2s - loss: 0.0513 - accuracy: 0.9336 - val_loss: 0.1233 - val_accuracy: 0.8340 - 2s/epoch - 133ms/step\n",
            "Epoch 36/50\n",
            "15/15 - 2s - loss: 0.0490 - accuracy: 0.9343 - val_loss: 0.1328 - val_accuracy: 0.8293 - 2s/epoch - 135ms/step\n",
            "Epoch 37/50\n",
            "15/15 - 2s - loss: 0.0378 - accuracy: 0.9532 - val_loss: 0.1211 - val_accuracy: 0.8340 - 2s/epoch - 134ms/step\n",
            "Epoch 38/50\n",
            "15/15 - 2s - loss: 0.0402 - accuracy: 0.9486 - val_loss: 0.1274 - val_accuracy: 0.8285 - 2s/epoch - 134ms/step\n",
            "Epoch 39/50\n",
            "15/15 - 2s - loss: 0.0400 - accuracy: 0.9475 - val_loss: 0.1252 - val_accuracy: 0.8293 - 2s/epoch - 134ms/step\n",
            "Epoch 40/50\n",
            "15/15 - 2s - loss: 0.0504 - accuracy: 0.9352 - val_loss: 0.1305 - val_accuracy: 0.8285 - 2s/epoch - 135ms/step\n",
            "Epoch 41/50\n",
            "15/15 - 2s - loss: 0.0387 - accuracy: 0.9502 - val_loss: 0.1242 - val_accuracy: 0.8348 - 2s/epoch - 135ms/step\n",
            "Epoch 42/50\n",
            "15/15 - 2s - loss: 0.0347 - accuracy: 0.9554 - val_loss: 0.1213 - val_accuracy: 0.8332 - 2s/epoch - 135ms/step\n",
            "Epoch 43/50\n",
            "15/15 - 2s - loss: 0.0323 - accuracy: 0.9595 - val_loss: 0.1289 - val_accuracy: 0.8301 - 2s/epoch - 136ms/step\n",
            "Epoch 44/50\n",
            "15/15 - 2s - loss: 0.0314 - accuracy: 0.9616 - val_loss: 0.1203 - val_accuracy: 0.8356 - 2s/epoch - 136ms/step\n"
          ]
        }
      ],
      "source": [
        "from keras.callbacks import EarlyStopping\n",
        "from tensorflow.keras.optimizers import Adam\n",
        "epoch = 50\n",
        "batchS = 300\n",
        "\n",
        "early_stopping_callback = EarlyStopping(monitor = 'val_loss', patience = 12, mode = 'min', restore_best_weights = True)\n",
        "\n",
        "opt = Adam(learning_rate=0.001)\n",
        "model.compile(loss='mean_squared_error', optimizer=opt, metrics=['accuracy'])\n",
        "history = model.fit(x=np.array(X_tr), y=np.array(y_tr), epochs=epoch,\n",
        "                    validation_data=(np.array(X_va), np.array(y_va)),\n",
        "                    shuffle=True,\n",
        "                    batch_size=batchS, verbose=2,\n",
        "                    callbacks=[early_stopping_callback])"
      ]
    },
    {
      "cell_type": "markdown",
      "source": [
        "##Evaluate model"
      ],
      "metadata": {
        "id": "vIEqtPFt245s"
      }
    },
    {
      "cell_type": "code",
      "execution_count": 15,
      "metadata": {
        "colab": {
          "base_uri": "https://localhost:8080/"
        },
        "id": "mD99rIja4uPB",
        "outputId": "b953b13d-c792-4be4-a60c-dffee7f9571d"
      },
      "outputs": [
        {
          "output_type": "stream",
          "name": "stdout",
          "text": [
            "24/24 [==============================] - 0s 14ms/step - loss: 0.1772 - accuracy: 0.7480\n"
          ]
        }
      ],
      "source": [
        "result = model.evaluate(np.array(X_te), np.array(y_te))"
      ]
    },
    {
      "cell_type": "code",
      "execution_count": 17,
      "metadata": {
        "colab": {
          "base_uri": "https://localhost:8080/"
        },
        "id": "AYRx_fEa4uPB",
        "outputId": "c3bf26a6-eaed-4b89-a38c-3875693f9383"
      },
      "outputs": [
        {
          "output_type": "stream",
          "name": "stdout",
          "text": [
            "loss 0.1771789938211441\n",
            "accuracy 0.7479674816131592\n"
          ]
        }
      ],
      "source": [
        "for name, value in zip(model.metrics_names, result):\n",
        "    print(name, value)\n"
      ]
    },
    {
      "cell_type": "markdown",
      "source": [
        "##Plot graph"
      ],
      "metadata": {
        "id": "ZR8mWhJB29Kk"
      }
    },
    {
      "cell_type": "code",
      "execution_count": 16,
      "metadata": {
        "colab": {
          "base_uri": "https://localhost:8080/",
          "height": 646
        },
        "id": "IcxmQpQq4uPC",
        "outputId": "ccd40925-5e6b-49a1-d7e6-23c20fee5a94"
      },
      "outputs": [
        {
          "output_type": "stream",
          "name": "stderr",
          "text": [
            "The PostScript backend does not support transparency; partially transparent artists will be rendered opaque.\n",
            "The PostScript backend does not support transparency; partially transparent artists will be rendered opaque.\n"
          ]
        },
        {
          "output_type": "display_data",
          "data": {
            "text/plain": [
              "<Figure size 432x288 with 1 Axes>"
            ],
            "image/png": "[encoded data removed]"
          },
          "metadata": {
            "needs_background": "light"
          }
        },
        {
          "output_type": "stream",
          "name": "stderr",
          "text": [
            "The PostScript backend does not support transparency; partially transparent artists will be rendered opaque.\n",
            "The PostScript backend does not support transparency; partially transparent artists will be rendered opaque.\n"
          ]
        },
        {
          "output_type": "display_data",
          "data": {
            "text/plain": [
              "<Figure size 432x288 with 1 Axes>"
            ],
            "image/png": "[encoded data removed]"
          },
          "metadata": {
            "needs_background": "light"
          }
        }
      ],
      "source": [
        "plt.plot(history.history['accuracy'])\n",
        "plt.plot(history.history['val_accuracy'])\n",
        "plt.title('model accuracy')\n",
        "plt.ylabel('accuracy')\n",
        "plt.xlabel('epoch')\n",
        "plt.legend(['train', 'validation'], loc='upper left')\n",
        "plt.savefig('destination_path.eps', format='eps', dpi=1000)\n",
        "plt.show()\n",
        "# summarize history for loss\n",
        "plt.plot(history.history['loss'])\n",
        "plt.plot(history.history['val_loss'])\n",
        "plt.title('model loss')\n",
        "plt.ylabel('loss')\n",
        "plt.xlabel('epoch')\n",
        "plt.legend(['train', 'validation'], loc='upper left')\n",
        "plt.savefig('destination_path1.eps', format='eps', dpi=1000)\n",
        "plt.show()\n"
      ]
    },
    {
      "cell_type": "markdown",
      "source": [
        "##Save model"
      ],
      "metadata": {
        "id": "mVopoxc73AM2"
      }
    },
    {
      "cell_type": "code",
      "source": [
        "model.save('modelv4_5.h5')\n",
        "model.save_weights('w_modelv4_5.h5')"
      ],
      "metadata": {
        "id": "BFQSVBnN9tje"
      },
      "execution_count": 18,
      "outputs": []
    }
  ],
  "metadata": {
    "kernelspec": {
      "display_name": "Python 3.10.4 ('machinelearning')",
      "language": "python",
      "name": "python3"
    },
    "language_info": {
      "codemirror_mode": {
        "name": "ipython",
        "version": 3
      },
      "file_extension": ".py",
      "mimetype": "text/x-python",
      "name": "python",
      "nbconvert_exporter": "python",
      "pygments_lexer": "ipython3",
      "version": "3.10.4"
    },
    "orig_nbformat": 4,
    "vscode": {
      "interpreter": {
        "hash": "30d8a3d27ab71be48f54829d3c7c39b061bdc4f38141d6f968e425f8dc2b8031"
      }
    },
    "colab": {
      "name": "Violence Detection.ipynb",
      "provenance": [],
      "collapsed_sections": [],
      "toc_visible": true
    },
    "accelerator": "GPU",
    "gpuClass": "standard"
  },
  "nbformat": 4,
  "nbformat_minor": 0
}